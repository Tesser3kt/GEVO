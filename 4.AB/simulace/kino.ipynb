{
 "cells": [
  {
   "cell_type": "code",
   "execution_count": 4,
   "metadata": {},
   "outputs": [
    {
     "data": {
      "text/plain": [
       "<Axes: >"
      ]
     },
     "execution_count": 4,
     "metadata": {},
     "output_type": "execute_result"
    },
    {
     "data": {
      "image/png": "[encoded data removed]",
      "text/plain": [
       "<Figure size 432x288 with 1 Axes>"
      ]
     },
     "metadata": {
      "needs_background": "light"
     },
     "output_type": "display_data"
    }
   ],
   "source": [
    "import numpy as np, pandas as pd, matplotlib.pyplot as plt\n",
    "\n",
    "# Vstupní data\n",
    "data = np.empty((30, 11), dtype=int)\n",
    "for day in range(30):\n",
    "    for hour in range(11):\n",
    "        if hour <= 5:\n",
    "            data[day][hour] = int(np.random.normal(150, 20))\n",
    "        elif 5 < hour <= 8:\n",
    "            data[day][hour] = int(np.random.normal(300, 30))\n",
    "        else:\n",
    "            data[day][hour] = int(np.random.normal(50, 5))\n",
    "\n",
    "# Vizualizace dat\n",
    "idx = pd.timedelta_range(start='11:00:00', end='21:00:00', freq='H')\n",
    "ts = pd.Series(data[12], index=idx)\n",
    "plt.figure()\n",
    "ts.plot(kind='bar')"
   ]
  },
  {
   "cell_type": "code",
   "execution_count": null,
   "metadata": {},
   "outputs": [],
   "source": [
    "# Simulace\n",
    "from simpy import *\n",
    "\n",
    "env = Environment()\n",
    "\n",
    "num_cashiers = 3\n",
    "num_ushers = 2\n",
    "num_servers = 3\n",
    "\n",
    "cashier = Resource(env, capacity=num_cashiers)\n",
    "usher = Resource(env, capacity=num_ushers)\n",
    "server = Resource(env, capacity=num_servers)\n",
    "\n"
   ]
  },
  {
   "cell_type": "code",
   "execution_count": null,
   "metadata": {},
   "outputs": [],
   "source": []
  }
 ],
 "metadata": {
  "kernelspec": {
   "display_name": "Python 3",
   "language": "python",
   "name": "python3"
  },
  "language_info": {
   "codemirror_mode": {
    "name": "ipython",
    "version": 3
   },
   "file_extension": ".py",
   "mimetype": "text/x-python",
   "name": "python",
   "nbconvert_exporter": "python",
   "pygments_lexer": "ipython3",
   "version": "3.10.5"
  },
  "orig_nbformat": 4
 },
 "nbformat": 4,
 "nbformat_minor": 2
}
