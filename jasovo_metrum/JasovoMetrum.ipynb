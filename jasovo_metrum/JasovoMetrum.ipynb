{
  "cells": [
    {
      "cell_type": "code",
<<<<<<< HEAD
      "execution_count": 6,
=======
      "execution_count": 44,
>>>>>>> 234d6d09a06d1f32ff20f07bf17e192dc1f51a20
      "metadata": {
        "id": "OKTdtDidzj62"
      },
      "outputs": [],
      "source": [
        "import os\n",
        "\n",
        "os.environ[\"KERAS_BACKEND\"] = \"jax\"\n",
        "\n",
        "import numpy as np\n",
        "import pandas as pd\n",
        "import matplotlib.pyplot as plt\n",
        "\n",
        "import tensorflow as tf"
      ]
    },
    {
      "cell_type": "code",
<<<<<<< HEAD
      "execution_count": 7,
=======
      "execution_count": 57,
>>>>>>> 234d6d09a06d1f32ff20f07bf17e192dc1f51a20
      "metadata": {
        "id": "fYz2Wn-DztLG"
      },
      "outputs": [],
      "source": [
        "df = pd.read_csv('data.csv', usecols=['type', 'metre', 'text'])"
      ]
    },
    {
      "cell_type": "code",
<<<<<<< HEAD
      "execution_count": 8,
=======
      "execution_count": 58,
>>>>>>> 234d6d09a06d1f32ff20f07bf17e192dc1f51a20
      "metadata": {
        "id": "-PcCSqMp0M0M"
      },
      "outputs": [],
      "source": [
        "df = df.drop(index=[row for row in df.index if df.loc[row, 'metre'] == 'N'])"
      ]
    },
    {
      "cell_type": "code",
<<<<<<< HEAD
      "execution_count": 9,
=======
      "execution_count": 59,
>>>>>>> 234d6d09a06d1f32ff20f07bf17e192dc1f51a20
      "metadata": {
        "id": "V9jsAEIX6oSi"
      },
      "outputs": [],
      "source": [
        "df = df[['metre', 'text']]\n",
        "df['metre'] = df['metre'].astype('category')\n",
        "df['metre'] = df['metre'].cat.codes"
      ]
    },
    {
      "cell_type": "code",
<<<<<<< HEAD
      "execution_count": 10,
=======
      "execution_count": 60,
>>>>>>> 234d6d09a06d1f32ff20f07bf17e192dc1f51a20
      "metadata": {
        "id": "Vczqd93t0Ni4"
      },
      "outputs": [
        {
          "name": "stderr",
          "output_type": "stream",
          "text": [
<<<<<<< HEAD
            "/home/tesserekt/.local/share/virtualenvs/jasovo_metrum-hyuCcmkr/lib/python3.11/site-packages/numpy/core/fromnumeric.py:59: FutureWarning: 'DataFrame.swapaxes' is deprecated and will be removed in a future version. Please use 'DataFrame.transpose' instead.\n",
=======
            "/home/tesserekt/.local/share/virtualenvs/jasovo_metrum-4NVNz6R8/lib/python3.11/site-packages/numpy/core/fromnumeric.py:59: FutureWarning: 'DataFrame.swapaxes' is deprecated and will be removed in a future version. Please use 'DataFrame.transpose' instead.\n",
>>>>>>> 234d6d09a06d1f32ff20f07bf17e192dc1f51a20
            "  return bound(*args, **kwds)\n"
          ]
        }
      ],
      "source": [
        "train, val, test = np.split(df.sample(frac=1), [int(.8 * len(df)), int(.9 * len(df))])"
      ]
    },
    {
      "cell_type": "code",
<<<<<<< HEAD
      "execution_count": 11,
=======
      "execution_count": 61,
>>>>>>> 234d6d09a06d1f32ff20f07bf17e192dc1f51a20
      "metadata": {
        "colab": {
          "base_uri": "https://localhost:8080/"
        },
        "id": "rfl9cAfF2iZ0",
        "outputId": "a43236cc-c0f4-4333-a601-e78ed708128f"
      },
      "outputs": [
        {
          "data": {
            "text/plain": [
              "(1670806, 208851, 208851)"
            ]
          },
<<<<<<< HEAD
          "execution_count": 11,
=======
          "execution_count": 61,
>>>>>>> 234d6d09a06d1f32ff20f07bf17e192dc1f51a20
          "metadata": {},
          "output_type": "execute_result"
        }
      ],
      "source": [
        "len(train), len(val), len(test)"
      ]
    },
    {
      "cell_type": "code",
<<<<<<< HEAD
      "execution_count": 12,
=======
      "execution_count": 62,
>>>>>>> 234d6d09a06d1f32ff20f07bf17e192dc1f51a20
      "metadata": {
        "id": "P_vp5Fhr5sbm"
      },
      "outputs": [],
      "source": [
        "def df_to_dataset(dataframe, shuffle=True, batch_size=1):\n",
        "  df = dataframe.copy()\n",
        "  labels = df.pop('metre')\n",
        "  df = df[\"text\"]\n",
        "  ds = tf.data.Dataset.from_tensor_slices((df, labels))\n",
        "  if shuffle:\n",
        "    ds = ds.shuffle(buffer_size=len(dataframe))\n",
        "  ds = ds.batch(batch_size)\n",
        "  ds = ds.prefetch(tf.data.AUTOTUNE)\n",
        "\n",
        "  return ds"
      ]
    },
    {
      "cell_type": "code",
<<<<<<< HEAD
      "execution_count": 13,
=======
      "execution_count": 71,
>>>>>>> 234d6d09a06d1f32ff20f07bf17e192dc1f51a20
      "metadata": {
        "id": "54F7We-O8Oc7"
      },
      "outputs": [
        {
<<<<<<< HEAD
          "name": "stderr",
          "output_type": "stream",
          "text": [
            "2023-11-26 21:10:39.503206: I external/local_xla/xla/stream_executor/cuda/cuda_executor.cc:887] could not open file to read NUMA node: /sys/bus/pci/devices/0000:01:00.0/numa_node\n",
            "Your kernel may have been built without NUMA support.\n",
            "2023-11-26 21:10:39.503398: W tensorflow/core/common_runtime/gpu/gpu_device.cc:2256] Cannot dlopen some GPU libraries. Please make sure the missing libraries mentioned above are installed properly if you would like to use GPU. Follow the guide at https://www.tensorflow.org/install/gpu for how to download and setup the required libraries for your platform.\n",
            "Skipping registering GPU devices...\n"
          ]
=======
          "data": {
            "text/plain": [
              "<_TakeDataset element_spec=(TensorSpec(shape=(None,), dtype=tf.string, name=None), TensorSpec(shape=(None,), dtype=tf.int8, name=None))>"
            ]
          },
          "execution_count": 71,
          "metadata": {},
          "output_type": "execute_result"
>>>>>>> 234d6d09a06d1f32ff20f07bf17e192dc1f51a20
        }
      ],
      "source": [
        "train_data = df_to_dataset(train)\n",
        "valid_data = df_to_dataset(val)\n",
        "test_data = df_to_dataset(test)"
      ]
    },
    {
      "cell_type": "code",
      "execution_count": 64,
      "metadata": {
        "colab": {
          "base_uri": "https://localhost:8080/",
          "height": 341
        },
        "id": "Slm8knJ7x2SE",
        "outputId": "e8cdcbb0-3ef0-4f54-dd93-65b0a4faf490"
      },
      "outputs": [],
      "source": [
        "encoder = tf.keras.layers.TextVectorization()\n",
        "encoder.adapt(train_data.map(lambda text, label: text))"
      ]
    },
    {
      "cell_type": "code",
      "execution_count": 66,
      "metadata": {
        "colab": {
          "base_uri": "https://localhost:8080/"
        },
        "id": "5tpGlBZ-9LnE",
        "outputId": "de096e05-1bfe-46bb-8762-57c75098a249"
      },
      "outputs": [
        {
          "data": {
            "text/plain": [
              "351715"
            ]
          },
          "execution_count": 66,
          "metadata": {},
          "output_type": "execute_result"
        }
      ],
      "source": [
        "vocab = np.array(encoder.get_vocabulary())\n",
        "vocab[:20]\n",
        "len(vocab)"
      ]
    },
    {
      "cell_type": "code",
      "execution_count": 67,
      "metadata": {
        "id": "5TQ7td2j9V2s"
      },
      "outputs": [],
      "source": [
        "model = tf.keras.Sequential([\n",
        "    encoder,\n",
        "    tf.keras.layers.Embedding(\n",
        "        input_dim=len(encoder.get_vocabulary()),\n",
        "        output_dim=32,\n",
        "        mask_zero=True\n",
        "    ),\n",
        "    tf.keras.layers.LSTM(32),\n",
        "    tf.keras.layers.Dense(32, activation='relu'),\n",
        "    tf.keras.layers.Dropout(0.4),\n",
        "    tf.keras.layers.Dense(32, activation='relu'),\n",
        "    tf.keras.layers.Dropout(0.4),\n",
        "    tf.keras.layers.Dense(6, activation='sigmoid')\n",
        "])"
      ]
    },
    {
      "cell_type": "code",
      "execution_count": 68,
      "metadata": {
        "id": "-1siyMzR-gAu"
      },
      "outputs": [],
      "source": [
        "model.compile(\n",
        "    optimizer=tf.keras.optimizers.Adam(learning_rate=0.001),\n",
        "    loss=tf.keras.losses.SparseCategoricalCrossentropy(),\n",
        "    metrics=['accuracy']\n",
        ")"
      ]
    },
    {
      "cell_type": "code",
      "execution_count": 69,
      "metadata": {
        "colab": {
          "base_uri": "https://localhost:8080/"
        },
        "id": "aqladXdo-3_O",
        "outputId": "e0869c99-af1b-4037-aafd-17d5b75ace44"
      },
      "outputs": [
        {
          "name": "stdout",
          "output_type": "stream",
          "text": [
            "Epoch 1/10\n"
          ]
        },
        {
          "name": "stdout",
          "output_type": "stream",
          "text": [
            "     56/1670806 [..............................] - ETA: 12:44:54 - loss: 1.7284 - accuracy: 0.3929"
          ]
        },
        {
          "name": "stderr",
          "output_type": "stream",
          "text": [
            "2023-11-25 22:27:00.420314: W tensorflow/core/framework/op_kernel.cc:1839] OP_REQUIRES failed at sparse_xent_op.cc:103 : INVALID_ARGUMENT: Received a label value of 6 which is outside the valid range of [0, 6).  Label values: 6\n"
          ]
        },
        {
          "ename": "InvalidArgumentError",
          "evalue": "Graph execution error:\n\nDetected at node sparse_categorical_crossentropy/SparseSoftmaxCrossEntropyWithLogits/SparseSoftmaxCrossEntropyWithLogits defined at (most recent call last):\n  File \"<frozen runpy>\", line 198, in _run_module_as_main\n\n  File \"<frozen runpy>\", line 88, in _run_code\n\n  File \"/home/tesserekt/.local/share/virtualenvs/jasovo_metrum-4NVNz6R8/lib/python3.11/site-packages/ipykernel_launcher.py\", line 17, in <module>\n\n  File \"/home/tesserekt/.local/share/virtualenvs/jasovo_metrum-4NVNz6R8/lib/python3.11/site-packages/traitlets/config/application.py\", line 1053, in launch_instance\n\n  File \"/home/tesserekt/.local/share/virtualenvs/jasovo_metrum-4NVNz6R8/lib/python3.11/site-packages/ipykernel/kernelapp.py\", line 737, in start\n\n  File \"/home/tesserekt/.local/share/virtualenvs/jasovo_metrum-4NVNz6R8/lib/python3.11/site-packages/tornado/platform/asyncio.py\", line 195, in start\n\n  File \"/usr/lib/python3.11/asyncio/base_events.py\", line 607, in run_forever\n\n  File \"/usr/lib/python3.11/asyncio/base_events.py\", line 1922, in _run_once\n\n  File \"/usr/lib/python3.11/asyncio/events.py\", line 80, in _run\n\n  File \"/home/tesserekt/.local/share/virtualenvs/jasovo_metrum-4NVNz6R8/lib/python3.11/site-packages/ipykernel/kernelbase.py\", line 524, in dispatch_queue\n\n  File \"/home/tesserekt/.local/share/virtualenvs/jasovo_metrum-4NVNz6R8/lib/python3.11/site-packages/ipykernel/kernelbase.py\", line 513, in process_one\n\n  File \"/home/tesserekt/.local/share/virtualenvs/jasovo_metrum-4NVNz6R8/lib/python3.11/site-packages/ipykernel/kernelbase.py\", line 418, in dispatch_shell\n\n  File \"/home/tesserekt/.local/share/virtualenvs/jasovo_metrum-4NVNz6R8/lib/python3.11/site-packages/ipykernel/kernelbase.py\", line 758, in execute_request\n\n  File \"/home/tesserekt/.local/share/virtualenvs/jasovo_metrum-4NVNz6R8/lib/python3.11/site-packages/ipykernel/ipkernel.py\", line 426, in do_execute\n\n  File \"/home/tesserekt/.local/share/virtualenvs/jasovo_metrum-4NVNz6R8/lib/python3.11/site-packages/ipykernel/zmqshell.py\", line 549, in run_cell\n\n  File \"/home/tesserekt/.local/share/virtualenvs/jasovo_metrum-4NVNz6R8/lib/python3.11/site-packages/IPython/core/interactiveshell.py\", line 3048, in run_cell\n\n  File \"/home/tesserekt/.local/share/virtualenvs/jasovo_metrum-4NVNz6R8/lib/python3.11/site-packages/IPython/core/interactiveshell.py\", line 3103, in _run_cell\n\n  File \"/home/tesserekt/.local/share/virtualenvs/jasovo_metrum-4NVNz6R8/lib/python3.11/site-packages/IPython/core/async_helpers.py\", line 129, in _pseudo_sync_runner\n\n  File \"/home/tesserekt/.local/share/virtualenvs/jasovo_metrum-4NVNz6R8/lib/python3.11/site-packages/IPython/core/interactiveshell.py\", line 3308, in run_cell_async\n\n  File \"/home/tesserekt/.local/share/virtualenvs/jasovo_metrum-4NVNz6R8/lib/python3.11/site-packages/IPython/core/interactiveshell.py\", line 3490, in run_ast_nodes\n\n  File \"/home/tesserekt/.local/share/virtualenvs/jasovo_metrum-4NVNz6R8/lib/python3.11/site-packages/IPython/core/interactiveshell.py\", line 3550, in run_code\n\n  File \"/tmp/ipykernel_557688/2292961678.py\", line 1, in <module>\n\n  File \"/home/tesserekt/.local/share/virtualenvs/jasovo_metrum-4NVNz6R8/lib/python3.11/site-packages/keras/src/utils/traceback_utils.py\", line 65, in error_handler\n\n  File \"/home/tesserekt/.local/share/virtualenvs/jasovo_metrum-4NVNz6R8/lib/python3.11/site-packages/keras/src/engine/training.py\", line 1807, in fit\n\n  File \"/home/tesserekt/.local/share/virtualenvs/jasovo_metrum-4NVNz6R8/lib/python3.11/site-packages/keras/src/engine/training.py\", line 1401, in train_function\n\n  File \"/home/tesserekt/.local/share/virtualenvs/jasovo_metrum-4NVNz6R8/lib/python3.11/site-packages/keras/src/engine/training.py\", line 1384, in step_function\n\n  File \"/home/tesserekt/.local/share/virtualenvs/jasovo_metrum-4NVNz6R8/lib/python3.11/site-packages/keras/src/engine/training.py\", line 1373, in run_step\n\n  File \"/home/tesserekt/.local/share/virtualenvs/jasovo_metrum-4NVNz6R8/lib/python3.11/site-packages/keras/src/engine/training.py\", line 1151, in train_step\n\n  File \"/home/tesserekt/.local/share/virtualenvs/jasovo_metrum-4NVNz6R8/lib/python3.11/site-packages/keras/src/engine/training.py\", line 1209, in compute_loss\n\n  File \"/home/tesserekt/.local/share/virtualenvs/jasovo_metrum-4NVNz6R8/lib/python3.11/site-packages/keras/src/engine/compile_utils.py\", line 277, in __call__\n\n  File \"/home/tesserekt/.local/share/virtualenvs/jasovo_metrum-4NVNz6R8/lib/python3.11/site-packages/keras/src/losses.py\", line 143, in __call__\n\n  File \"/home/tesserekt/.local/share/virtualenvs/jasovo_metrum-4NVNz6R8/lib/python3.11/site-packages/keras/src/losses.py\", line 270, in call\n\n  File \"/home/tesserekt/.local/share/virtualenvs/jasovo_metrum-4NVNz6R8/lib/python3.11/site-packages/keras/src/losses.py\", line 2454, in sparse_categorical_crossentropy\n\n  File \"/home/tesserekt/.local/share/virtualenvs/jasovo_metrum-4NVNz6R8/lib/python3.11/site-packages/keras/src/backend.py\", line 5775, in sparse_categorical_crossentropy\n\nReceived a label value of 6 which is outside the valid range of [0, 6).  Label values: 6\n\t [[{{node sparse_categorical_crossentropy/SparseSoftmaxCrossEntropyWithLogits/SparseSoftmaxCrossEntropyWithLogits}}]] [Op:__inference_train_function_6701131]",
          "output_type": "error",
          "traceback": [
            "\u001b[0;31m---------------------------------------------------------------------------\u001b[0m",
            "\u001b[0;31mInvalidArgumentError\u001b[0m                      Traceback (most recent call last)",
            "\u001b[1;32m/home/tesserekt/source/repos/GEVO/jasovo_metrum/JasovoMetrum.ipynb Cell 13\u001b[0m line \u001b[0;36m1\n\u001b[0;32m----> <a href='vscode-notebook-cell:/home/tesserekt/source/repos/GEVO/jasovo_metrum/JasovoMetrum.ipynb#X16sZmlsZQ%3D%3D?line=0'>1</a>\u001b[0m history \u001b[39m=\u001b[39m model\u001b[39m.\u001b[39;49mfit(train_data, epochs\u001b[39m=\u001b[39;49m\u001b[39m10\u001b[39;49m, validation_data\u001b[39m=\u001b[39;49mvalid_data)\n",
            "File \u001b[0;32m~/.local/share/virtualenvs/jasovo_metrum-4NVNz6R8/lib/python3.11/site-packages/keras/src/utils/traceback_utils.py:70\u001b[0m, in \u001b[0;36mfilter_traceback.<locals>.error_handler\u001b[0;34m(*args, **kwargs)\u001b[0m\n\u001b[1;32m     67\u001b[0m     filtered_tb \u001b[39m=\u001b[39m _process_traceback_frames(e\u001b[39m.\u001b[39m__traceback__)\n\u001b[1;32m     68\u001b[0m     \u001b[39m# To get the full stack trace, call:\u001b[39;00m\n\u001b[1;32m     69\u001b[0m     \u001b[39m# `tf.debugging.disable_traceback_filtering()`\u001b[39;00m\n\u001b[0;32m---> 70\u001b[0m     \u001b[39mraise\u001b[39;00m e\u001b[39m.\u001b[39mwith_traceback(filtered_tb) \u001b[39mfrom\u001b[39;00m \u001b[39mNone\u001b[39;00m\n\u001b[1;32m     71\u001b[0m \u001b[39mfinally\u001b[39;00m:\n\u001b[1;32m     72\u001b[0m     \u001b[39mdel\u001b[39;00m filtered_tb\n",
            "File \u001b[0;32m~/.local/share/virtualenvs/jasovo_metrum-4NVNz6R8/lib/python3.11/site-packages/tensorflow/python/eager/execute.py:53\u001b[0m, in \u001b[0;36mquick_execute\u001b[0;34m(op_name, num_outputs, inputs, attrs, ctx, name)\u001b[0m\n\u001b[1;32m     51\u001b[0m \u001b[39mtry\u001b[39;00m:\n\u001b[1;32m     52\u001b[0m   ctx\u001b[39m.\u001b[39mensure_initialized()\n\u001b[0;32m---> 53\u001b[0m   tensors \u001b[39m=\u001b[39m pywrap_tfe\u001b[39m.\u001b[39mTFE_Py_Execute(ctx\u001b[39m.\u001b[39m_handle, device_name, op_name,\n\u001b[1;32m     54\u001b[0m                                       inputs, attrs, num_outputs)\n\u001b[1;32m     55\u001b[0m \u001b[39mexcept\u001b[39;00m core\u001b[39m.\u001b[39m_NotOkStatusException \u001b[39mas\u001b[39;00m e:\n\u001b[1;32m     56\u001b[0m   \u001b[39mif\u001b[39;00m name \u001b[39mis\u001b[39;00m \u001b[39mnot\u001b[39;00m \u001b[39mNone\u001b[39;00m:\n",
            "\u001b[0;31mInvalidArgumentError\u001b[0m: Graph execution error:\n\nDetected at node sparse_categorical_crossentropy/SparseSoftmaxCrossEntropyWithLogits/SparseSoftmaxCrossEntropyWithLogits defined at (most recent call last):\n  File \"<frozen runpy>\", line 198, in _run_module_as_main\n\n  File \"<frozen runpy>\", line 88, in _run_code\n\n  File \"/home/tesserekt/.local/share/virtualenvs/jasovo_metrum-4NVNz6R8/lib/python3.11/site-packages/ipykernel_launcher.py\", line 17, in <module>\n\n  File \"/home/tesserekt/.local/share/virtualenvs/jasovo_metrum-4NVNz6R8/lib/python3.11/site-packages/traitlets/config/application.py\", line 1053, in launch_instance\n\n  File \"/home/tesserekt/.local/share/virtualenvs/jasovo_metrum-4NVNz6R8/lib/python3.11/site-packages/ipykernel/kernelapp.py\", line 737, in start\n\n  File \"/home/tesserekt/.local/share/virtualenvs/jasovo_metrum-4NVNz6R8/lib/python3.11/site-packages/tornado/platform/asyncio.py\", line 195, in start\n\n  File \"/usr/lib/python3.11/asyncio/base_events.py\", line 607, in run_forever\n\n  File \"/usr/lib/python3.11/asyncio/base_events.py\", line 1922, in _run_once\n\n  File \"/usr/lib/python3.11/asyncio/events.py\", line 80, in _run\n\n  File \"/home/tesserekt/.local/share/virtualenvs/jasovo_metrum-4NVNz6R8/lib/python3.11/site-packages/ipykernel/kernelbase.py\", line 524, in dispatch_queue\n\n  File \"/home/tesserekt/.local/share/virtualenvs/jasovo_metrum-4NVNz6R8/lib/python3.11/site-packages/ipykernel/kernelbase.py\", line 513, in process_one\n\n  File \"/home/tesserekt/.local/share/virtualenvs/jasovo_metrum-4NVNz6R8/lib/python3.11/site-packages/ipykernel/kernelbase.py\", line 418, in dispatch_shell\n\n  File \"/home/tesserekt/.local/share/virtualenvs/jasovo_metrum-4NVNz6R8/lib/python3.11/site-packages/ipykernel/kernelbase.py\", line 758, in execute_request\n\n  File \"/home/tesserekt/.local/share/virtualenvs/jasovo_metrum-4NVNz6R8/lib/python3.11/site-packages/ipykernel/ipkernel.py\", line 426, in do_execute\n\n  File \"/home/tesserekt/.local/share/virtualenvs/jasovo_metrum-4NVNz6R8/lib/python3.11/site-packages/ipykernel/zmqshell.py\", line 549, in run_cell\n\n  File \"/home/tesserekt/.local/share/virtualenvs/jasovo_metrum-4NVNz6R8/lib/python3.11/site-packages/IPython/core/interactiveshell.py\", line 3048, in run_cell\n\n  File \"/home/tesserekt/.local/share/virtualenvs/jasovo_metrum-4NVNz6R8/lib/python3.11/site-packages/IPython/core/interactiveshell.py\", line 3103, in _run_cell\n\n  File \"/home/tesserekt/.local/share/virtualenvs/jasovo_metrum-4NVNz6R8/lib/python3.11/site-packages/IPython/core/async_helpers.py\", line 129, in _pseudo_sync_runner\n\n  File \"/home/tesserekt/.local/share/virtualenvs/jasovo_metrum-4NVNz6R8/lib/python3.11/site-packages/IPython/core/interactiveshell.py\", line 3308, in run_cell_async\n\n  File \"/home/tesserekt/.local/share/virtualenvs/jasovo_metrum-4NVNz6R8/lib/python3.11/site-packages/IPython/core/interactiveshell.py\", line 3490, in run_ast_nodes\n\n  File \"/home/tesserekt/.local/share/virtualenvs/jasovo_metrum-4NVNz6R8/lib/python3.11/site-packages/IPython/core/interactiveshell.py\", line 3550, in run_code\n\n  File \"/tmp/ipykernel_557688/2292961678.py\", line 1, in <module>\n\n  File \"/home/tesserekt/.local/share/virtualenvs/jasovo_metrum-4NVNz6R8/lib/python3.11/site-packages/keras/src/utils/traceback_utils.py\", line 65, in error_handler\n\n  File \"/home/tesserekt/.local/share/virtualenvs/jasovo_metrum-4NVNz6R8/lib/python3.11/site-packages/keras/src/engine/training.py\", line 1807, in fit\n\n  File \"/home/tesserekt/.local/share/virtualenvs/jasovo_metrum-4NVNz6R8/lib/python3.11/site-packages/keras/src/engine/training.py\", line 1401, in train_function\n\n  File \"/home/tesserekt/.local/share/virtualenvs/jasovo_metrum-4NVNz6R8/lib/python3.11/site-packages/keras/src/engine/training.py\", line 1384, in step_function\n\n  File \"/home/tesserekt/.local/share/virtualenvs/jasovo_metrum-4NVNz6R8/lib/python3.11/site-packages/keras/src/engine/training.py\", line 1373, in run_step\n\n  File \"/home/tesserekt/.local/share/virtualenvs/jasovo_metrum-4NVNz6R8/lib/python3.11/site-packages/keras/src/engine/training.py\", line 1151, in train_step\n\n  File \"/home/tesserekt/.local/share/virtualenvs/jasovo_metrum-4NVNz6R8/lib/python3.11/site-packages/keras/src/engine/training.py\", line 1209, in compute_loss\n\n  File \"/home/tesserekt/.local/share/virtualenvs/jasovo_metrum-4NVNz6R8/lib/python3.11/site-packages/keras/src/engine/compile_utils.py\", line 277, in __call__\n\n  File \"/home/tesserekt/.local/share/virtualenvs/jasovo_metrum-4NVNz6R8/lib/python3.11/site-packages/keras/src/losses.py\", line 143, in __call__\n\n  File \"/home/tesserekt/.local/share/virtualenvs/jasovo_metrum-4NVNz6R8/lib/python3.11/site-packages/keras/src/losses.py\", line 270, in call\n\n  File \"/home/tesserekt/.local/share/virtualenvs/jasovo_metrum-4NVNz6R8/lib/python3.11/site-packages/keras/src/losses.py\", line 2454, in sparse_categorical_crossentropy\n\n  File \"/home/tesserekt/.local/share/virtualenvs/jasovo_metrum-4NVNz6R8/lib/python3.11/site-packages/keras/src/backend.py\", line 5775, in sparse_categorical_crossentropy\n\nReceived a label value of 6 which is outside the valid range of [0, 6).  Label values: 6\n\t [[{{node sparse_categorical_crossentropy/SparseSoftmaxCrossEntropyWithLogits/SparseSoftmaxCrossEntropyWithLogits}}]] [Op:__inference_train_function_6701131]"
          ]
        }
      ],
      "source": [
        "history = model.fit(train_data, epochs=10, validation_data=valid_data)"
      ]
    }
  ],
  "metadata": {
    "colab": {
      "provenance": []
    },
    "kernelspec": {
      "display_name": "Python 3",
      "name": "python3"
    },
    "language_info": {
      "codemirror_mode": {
        "name": "ipython",
        "version": 3
      },
      "file_extension": ".py",
      "mimetype": "text/x-python",
      "name": "python",
      "nbconvert_exporter": "python",
      "pygments_lexer": "ipython3",
<<<<<<< HEAD
      "version": "3.11.5"
=======
      "version": "3.11.6"
>>>>>>> 234d6d09a06d1f32ff20f07bf17e192dc1f51a20
    }
  },
  "nbformat": 4,
  "nbformat_minor": 0
}
