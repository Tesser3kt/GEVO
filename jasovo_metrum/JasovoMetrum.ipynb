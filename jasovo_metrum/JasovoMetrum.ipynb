{
  "cells": [
    {
      "cell_type": "code",
      "execution_count": 72,
      "metadata": {
        "id": "OKTdtDidzj62"
      },
      "outputs": [],
      "source": [
        "import os\n",
        "\n",
        "os.environ[\"KERAS_BACKEND\"] = \"jax\"\n",
        "\n",
        "import numpy as np\n",
        "import pandas as pd\n",
        "import matplotlib.pyplot as plt\n",
        "\n",
        "import tensorflow as tf"
      ]
    },
    {
      "cell_type": "code",
      "execution_count": 73,
      "metadata": {
        "id": "fYz2Wn-DztLG"
      },
      "outputs": [],
      "source": [
        "df = pd.read_csv('data.csv', usecols=['type', 'metre', 'text'])\n",
        "df = df[['metre', 'text']]"
      ]
    },
    {
      "cell_type": "code",
      "execution_count": 74,
      "metadata": {
        "id": "-PcCSqMp0M0M"
      },
      "outputs": [
        {
          "data": {
            "text/plain": [
              "array([0, 1, 4, 2, 5, 3, 6, 7])"
            ]
          },
          "execution_count": 74,
          "metadata": {},
          "output_type": "execute_result"
        }
      ],
      "source": [
        "df['metre'].unique()"
      ]
    },
    {
      "cell_type": "code",
      "execution_count": 75,
      "metadata": {
        "id": "Vczqd93t0Ni4"
      },
      "outputs": [
        {
          "name": "stderr",
          "output_type": "stream",
          "text": [
            "/home/tesserekt/.local/share/virtualenvs/jasovo_metrum-hyuCcmkr/lib/python3.11/site-packages/numpy/core/fromnumeric.py:59: FutureWarning: 'DataFrame.swapaxes' is deprecated and will be removed in a future version. Please use 'DataFrame.transpose' instead.\n",
            "  return bound(*args, **kwds)\n"
          ]
        }
      ],
      "source": [
        "train, val, test = np.split(df.sample(frac=1), [int(.8 * len(df)), int(.9 * len(df))])"
      ]
    },
    {
      "cell_type": "code",
      "execution_count": 76,
      "metadata": {
        "colab": {
          "base_uri": "https://localhost:8080/"
        },
        "id": "rfl9cAfF2iZ0",
        "outputId": "a43236cc-c0f4-4333-a601-e78ed708128f"
      },
      "outputs": [
        {
          "data": {
            "text/plain": [
              "(1670806, 208851, 208851)"
            ]
          },
          "execution_count": 76,
          "metadata": {},
          "output_type": "execute_result"
        }
      ],
      "source": [
        "len(train), len(val), len(test)"
      ]
    },
    {
      "cell_type": "code",
      "execution_count": 77,
      "metadata": {
        "id": "P_vp5Fhr5sbm"
      },
      "outputs": [],
      "source": [
        "def df_to_dataset(dataframe, shuffle=True, batch_size=1024):\n",
        "  df = dataframe.copy()\n",
        "  labels = df.pop('metre')\n",
        "  df = df[\"text\"]\n",
        "  ds = tf.data.Dataset.from_tensor_slices((df, labels))\n",
        "  if shuffle:\n",
        "    ds = ds.shuffle(buffer_size=len(dataframe))\n",
        "  ds = ds.batch(batch_size)\n",
        "  ds = ds.prefetch(tf.data.AUTOTUNE)\n",
        "\n",
        "  return ds"
      ]
    },
    {
      "cell_type": "code",
      "execution_count": 82,
      "metadata": {
        "id": "54F7We-O8Oc7"
      },
      "outputs": [
        {
          "name": "stdout",
          "output_type": "stream",
          "text": [
            "<_PrefetchDataset element_spec=(TensorSpec(shape=(None,), dtype=tf.string, name=None), TensorSpec(shape=(None,), dtype=tf.int64, name=None))>\n"
          ]
        }
      ],
      "source": [
        "train_data = df_to_dataset(train)\n",
        "valid_data = df_to_dataset(val)\n",
        "test_data = df_to_dataset(test)"
      ]
    },
    {
      "cell_type": "code",
      "execution_count": 79,
      "metadata": {
        "colab": {
          "base_uri": "https://localhost:8080/",
          "height": 341
        },
        "id": "Slm8knJ7x2SE",
        "outputId": "e8cdcbb0-3ef0-4f54-dd93-65b0a4faf490"
      },
      "outputs": [],
      "source": [
        "encoder = tf.keras.layers.TextVectorization()\n",
        "encoder.adapt(train_data.map(lambda text, label: text))"
      ]
    },
    {
      "cell_type": "code",
      "execution_count": 61,
      "metadata": {
        "colab": {
          "base_uri": "https://localhost:8080/"
        },
        "id": "5tpGlBZ-9LnE",
        "outputId": "de096e05-1bfe-46bb-8762-57c75098a249"
      },
      "outputs": [
        {
          "data": {
            "text/plain": [
              "25722"
            ]
          },
          "execution_count": 61,
          "metadata": {},
          "output_type": "execute_result"
        }
      ],
      "source": [
        "vocab = np.array(encoder.get_vocabulary())\n",
        "vocab[:20]\n",
        "len(vocab)"
      ]
    },
    {
      "cell_type": "code",
      "execution_count": 62,
      "metadata": {
        "id": "5TQ7td2j9V2s"
      },
      "outputs": [],
      "source": [
        "model = tf.keras.Sequential([\n",
        "    encoder,\n",
        "    tf.keras.layers.Embedding(\n",
        "        input_dim=len(encoder.get_vocabulary()),\n",
        "        output_dim=32,\n",
        "        mask_zero=True\n",
        "    ),\n",
        "    tf.keras.layers.LSTM(32),\n",
        "    tf.keras.layers.Dense(32, activation='relu'),\n",
        "    tf.keras.layers.Dropout(0.4),\n",
        "    tf.keras.layers.Dense(32, activation='relu'),\n",
        "    tf.keras.layers.Dropout(0.4),\n",
        "    tf.keras.layers.Dense(8, activation='sigmoid')\n",
        "])"
      ]
    },
    {
      "cell_type": "code",
      "execution_count": 63,
      "metadata": {
        "id": "-1siyMzR-gAu"
      },
      "outputs": [],
      "source": [
        "model.compile(\n",
        "    optimizer=tf.keras.optimizers.Adam(learning_rate=0.001),\n",
        "    loss=tf.keras.losses.SparseCategoricalCrossentropy(),\n",
        "    metrics=['accuracy']\n",
        ")"
      ]
    },
    {
      "cell_type": "code",
      "execution_count": 64,
      "metadata": {
        "colab": {
          "base_uri": "https://localhost:8080/"
        },
        "id": "aqladXdo-3_O",
        "outputId": "e0869c99-af1b-4037-aafd-17d5b75ace44"
      },
      "outputs": [
        {
          "name": "stdout",
          "output_type": "stream",
          "text": [
            "Epoch 1/20\n",
            "1632/1632 [==============================] - 37s 21ms/step - loss: 0.8203 - accuracy: 0.6885 - val_loss: 0.6493 - val_accuracy: 0.7749\n",
            "Epoch 2/20\n",
            "1632/1632 [==============================] - 35s 21ms/step - loss: 0.6426 - accuracy: 0.7882 - val_loss: 0.5897 - val_accuracy: 0.8078\n",
            "Epoch 3/20\n",
            "1632/1632 [==============================] - 36s 22ms/step - loss: 0.5347 - accuracy: 0.8394 - val_loss: 0.4554 - val_accuracy: 0.8650\n",
            "Epoch 4/20\n",
            "1632/1632 [==============================] - 36s 22ms/step - loss: 0.4395 - accuracy: 0.8747 - val_loss: 0.3990 - val_accuracy: 0.8839\n",
            "Epoch 5/20\n",
            "1632/1632 [==============================] - 36s 22ms/step - loss: 0.3889 - accuracy: 0.8905 - val_loss: 0.3742 - val_accuracy: 0.8901\n",
            "Epoch 6/20\n",
            "1632/1632 [==============================] - 36s 22ms/step - loss: 0.3619 - accuracy: 0.8969 - val_loss: 0.3543 - val_accuracy: 0.8956\n",
            "Epoch 7/20\n",
            "1632/1632 [==============================] - 36s 22ms/step - loss: 0.3437 - accuracy: 0.9016 - val_loss: 0.3492 - val_accuracy: 0.8968\n",
            "Epoch 8/20\n",
            "1632/1632 [==============================] - 36s 22ms/step - loss: 0.3288 - accuracy: 0.9057 - val_loss: 0.3366 - val_accuracy: 0.9024\n",
            "Epoch 9/20\n",
            "1632/1632 [==============================] - 36s 22ms/step - loss: 0.3168 - accuracy: 0.9091 - val_loss: 0.3261 - val_accuracy: 0.9051\n",
            "Epoch 10/20\n",
            "1632/1632 [==============================] - 36s 22ms/step - loss: 0.3063 - accuracy: 0.9121 - val_loss: 0.3177 - val_accuracy: 0.9077\n",
            "Epoch 11/20\n",
            "1632/1632 [==============================] - 36s 22ms/step - loss: 0.2975 - accuracy: 0.9147 - val_loss: 0.3119 - val_accuracy: 0.9104\n",
            "Epoch 12/20\n",
            "1632/1632 [==============================] - 36s 22ms/step - loss: 0.2903 - accuracy: 0.9170 - val_loss: 0.3061 - val_accuracy: 0.9117\n",
            "Epoch 13/20\n",
            "1632/1632 [==============================] - 36s 22ms/step - loss: 0.2840 - accuracy: 0.9191 - val_loss: 0.3029 - val_accuracy: 0.9128\n",
            "Epoch 14/20\n",
            "1632/1632 [==============================] - 37s 22ms/step - loss: 0.2775 - accuracy: 0.9211 - val_loss: 0.3001 - val_accuracy: 0.9139\n",
            "Epoch 15/20\n",
            "1632/1632 [==============================] - 37s 22ms/step - loss: 0.2735 - accuracy: 0.9222 - val_loss: 0.2972 - val_accuracy: 0.9150\n",
            "Epoch 16/20\n",
            "1632/1632 [==============================] - 40s 24ms/step - loss: 0.2693 - accuracy: 0.9236 - val_loss: 0.3012 - val_accuracy: 0.9154\n",
            "Epoch 17/20\n",
            "1632/1632 [==============================] - 39s 23ms/step - loss: 0.2655 - accuracy: 0.9247 - val_loss: 0.2977 - val_accuracy: 0.9165\n",
            "Epoch 18/20\n",
            "1632/1632 [==============================] - 38s 23ms/step - loss: 0.2617 - accuracy: 0.9258 - val_loss: 0.3007 - val_accuracy: 0.9153\n",
            "Epoch 19/20\n",
            "1632/1632 [==============================] - 39s 23ms/step - loss: 0.2593 - accuracy: 0.9266 - val_loss: 0.2930 - val_accuracy: 0.9172\n",
            "Epoch 20/20\n",
            "1632/1632 [==============================] - 38s 23ms/step - loss: 0.2555 - accuracy: 0.9279 - val_loss: 0.2970 - val_accuracy: 0.9159\n"
          ]
        }
      ],
      "source": [
        "history = model.fit(train_data, epochs=20, validation_data=valid_data)"
      ]
    },
    {
      "cell_type": "code",
      "execution_count": 66,
      "metadata": {},
      "outputs": [
        {
          "name": "stdout",
          "output_type": "stream",
          "text": [
            "204/204 [==============================] - 2s 9ms/step - loss: 0.2925 - accuracy: 0.9176\n"
          ]
        },
        {
          "data": {
            "text/plain": [
              "[0.2925044894218445, 0.9175776243209839]"
            ]
          },
          "execution_count": 66,
          "metadata": {},
          "output_type": "execute_result"
        }
      ],
      "source": [
        "model.evaluate(test_data)"
      ]
    },
    {
      "cell_type": "code",
      "execution_count": 67,
      "metadata": {},
      "outputs": [],
      "source": [
        "model.save('metre_detector.keras')"
      ]
    },
    {
      "cell_type": "code",
      "execution_count": 71,
      "metadata": {},
      "outputs": [
        {
          "name": "stdout",
          "output_type": "stream",
          "text": [
            "204/204 [==============================] - 2s 9ms/step\n"
          ]
        },
        {
          "data": {
            "text/plain": [
              "(<tf.Tensor: shape=(1024,), dtype=string, numpy=\n",
              " array([b'\"a zid vy pra vo val da vu\"',\n",
              "        b'\"i kra lov ska krev hri chy zcer na la\"',\n",
              "        b'\"a tak sni ve taj na pl ne\"', ...,\n",
              "        b'\"a zi je od vu ne a ca sem od li ban ku\"',\n",
              "        b'\"kde pak je ta hol ka nu ty jsi nam da la\"',\n",
              "        b'\"ostre jsem vec sou de ruz nych hle disk\"'], dtype=object)>,\n",
              " <tf.Tensor: shape=(1024,), dtype=int64, numpy=array([1, 0, 1, ..., 0, 1, 1])>)"
            ]
          },
          "execution_count": 71,
          "metadata": {},
          "output_type": "execute_result"
        }
      ],
      "source": [
        "np.argmax(model.predict(test_data)[0])\n",
        "list(test_data)[0]"
      ]
    }
  ],
  "metadata": {
    "colab": {
      "provenance": []
    },
    "kernelspec": {
      "display_name": "Python 3",
      "name": "python3"
    },
    "language_info": {
      "codemirror_mode": {
        "name": "ipython",
        "version": 3
      },
      "file_extension": ".py",
      "mimetype": "text/x-python",
      "name": "python",
      "nbconvert_exporter": "python",
      "pygments_lexer": "ipython3",
      "version": "3.11.5"
    }
  },
  "nbformat": 4,
  "nbformat_minor": 0
}
